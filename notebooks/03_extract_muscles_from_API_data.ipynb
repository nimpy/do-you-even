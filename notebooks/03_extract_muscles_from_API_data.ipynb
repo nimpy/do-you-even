{
 "cells": [
  {
   "cell_type": "code",
   "execution_count": 3,
   "metadata": {},
   "outputs": [],
   "source": [
    "import json\n",
    "\n",
    "def extract_exercise_info(file_path):\n",
    "    # Read the JSON file\n",
    "    with open(file_path, 'r') as file:\n",
    "        data = json.load(file)\n",
    "\n",
    "    # Extract exercise names\n",
    "    exercise_names = [exercise['name'] for exercise in data['data']['allExercises']]\n",
    "\n",
    "    # Extract all muscles\n",
    "    all_muscles = set()\n",
    "    for exercise in data['data']['allExercises']:\n",
    "        all_muscles.update(exercise.get('primaryMuscles', []))\n",
    "        all_muscles.update(exercise.get('secondaryMuscles', []))\n",
    "\n",
    "    # Sort the names and muscles alphabetically\n",
    "    return sorted(exercise_names), sorted(all_muscles)\n",
    "\n",
    "def print_muscles(muscles):\n",
    "    for i, muscle in enumerate(muscles, 1):\n",
    "        print(f\"{muscle}\")"
   ]
  },
  {
   "cell_type": "code",
   "execution_count": 4,
   "metadata": {},
   "outputs": [
    {
     "name": "stdout",
     "output_type": "stream",
     "text": [
      "abductors\n",
      "adductors\n",
      "anterior deltoid\n",
      "biceps\n",
      "brachioradialis\n",
      "calves\n",
      "erector spinae\n",
      "forearm extensors\n",
      "forearm flexors\n",
      "gluteal muscles\n",
      "hamstrings\n",
      "lateral deltoid\n",
      "latissimus dorsi\n",
      "lower chest\n",
      "obliques\n",
      "posterior deltoid\n",
      "pronators\n",
      "quadriceps\n",
      "rectus abdominis\n",
      "supinators\n",
      "transverse abdominis\n",
      "trapezius\n",
      "triceps\n",
      "upper chest\n"
     ]
    }
   ],
   "source": [
    "input_file = '../allExercises.json'\n",
    "\n",
    "exercise_names, all_muscles = extract_exercise_info(input_file)\n",
    "print_muscles(all_muscles)"
   ]
  },
  {
   "cell_type": "code",
   "execution_count": null,
   "metadata": {},
   "outputs": [],
   "source": []
  }
 ],
 "metadata": {
  "kernelspec": {
   "display_name": ".venv",
   "language": "python",
   "name": "python3"
  },
  "language_info": {
   "codemirror_mode": {
    "name": "ipython",
    "version": 3
   },
   "file_extension": ".py",
   "mimetype": "text/x-python",
   "name": "python",
   "nbconvert_exporter": "python",
   "pygments_lexer": "ipython3",
   "version": "3.9.6"
  }
 },
 "nbformat": 4,
 "nbformat_minor": 2
}
