{
 "cells": [
  {
   "cell_type": "code",
   "execution_count": 7,
   "metadata": {},
   "outputs": [],
   "source": [
    "import json\n",
    "import re\n",
    "from datetime import datetime\n",
    "\n",
    "def parse_workout_data(file_path):\n",
    "    with open(file_path, 'r') as file:\n",
    "        content = file.read()\n",
    "\n",
    "    workouts = []\n",
    "    days = re.split(r'\\n\\s*\\n', content.strip())\n",
    "\n",
    "    for day in days:\n",
    "        lines = day.strip().split('\\n')\n",
    "        date_line = lines[0]\n",
    "        date_match = re.search(r'(\\d{8})', date_line)\n",
    "        \n",
    "        if date_match:\n",
    "            date = date_match.group(1)\n",
    "            location = \"home\" if \"home\" in date_line.lower() else \"gym\"\n",
    "            \n",
    "            exercises = []\n",
    "            for exercise_line in lines[1:]:\n",
    "                # Extract exercise name up to the first number\n",
    "                exercise_name = re.split(r'\\d', exercise_line)[0].strip()\n",
    "                sets = len(re.findall(r',', exercise_line)) + 1\n",
    "                exercises.append({\n",
    "                    \"name\": exercise_name,\n",
    "                    \"sets\": sets\n",
    "                })\n",
    "            \n",
    "            workouts.append({\n",
    "                date: {\n",
    "                    \"location\": location,\n",
    "                    \"exercises\": exercises\n",
    "                }\n",
    "            })\n",
    "        else:\n",
    "            print(f\"Could not find date in: {date_line}\")\n",
    "\n",
    "    return workouts\n",
    "\n",
    "\n",
    "def save_to_json(data, output_file):\n",
    "    with open(output_file, 'w') as file:\n",
    "        json.dump(data, file, indent=4)"
   ]
  },
  {
   "cell_type": "code",
   "execution_count": 8,
   "metadata": {},
   "outputs": [
    {
     "name": "stdout",
     "output_type": "stream",
     "text": [
      "Workout data has been transformed and saved to ../data/workout20200718.json\n"
     ]
    }
   ],
   "source": [
    "# Usage\n",
    "input_file = '../data/workout20200718.txt'\n",
    "output_file = '../data/workout20200718.json'\n",
    "\n",
    "workout_data = parse_workout_data(input_file)\n",
    "save_to_json(workout_data, output_file)\n",
    "\n",
    "print(f\"Workout data has been transformed and saved to {output_file}\")"
   ]
  },
  {
   "cell_type": "code",
   "execution_count": null,
   "metadata": {},
   "outputs": [],
   "source": []
  }
 ],
 "metadata": {
  "kernelspec": {
   "display_name": ".venv",
   "language": "python",
   "name": "python3"
  },
  "language_info": {
   "codemirror_mode": {
    "name": "ipython",
    "version": 3
   },
   "file_extension": ".py",
   "mimetype": "text/x-python",
   "name": "python",
   "nbconvert_exporter": "python",
   "pygments_lexer": "ipython3",
   "version": "3.9.6"
  }
 },
 "nbformat": 4,
 "nbformat_minor": 2
}
