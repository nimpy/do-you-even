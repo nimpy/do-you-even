{
 "cells": [
  {
   "cell_type": "code",
   "execution_count": 7,
   "metadata": {},
   "outputs": [],
   "source": [
    "import json\n",
    "\n",
    "def extract_unique_exercises(file_path):\n",
    "    # Read the JSON file\n",
    "    with open(file_path, 'r') as file:\n",
    "        workout_data = json.load(file)\n",
    "\n",
    "    # Set to store unique exercises\n",
    "    unique_exercises = set()\n",
    "\n",
    "    # Iterate through the workout data\n",
    "    for entry in workout_data:\n",
    "        for date, data in entry.items():\n",
    "            for exercise in data['exercises']:\n",
    "                unique_exercises.add(exercise['name'])\n",
    "\n",
    "    # Convert set to sorted list for nicer output\n",
    "    return sorted(list(unique_exercises))\n",
    "\n",
    "def print_unique_exercises(exercises):\n",
    "    for i, exercise in enumerate(exercises, 1):\n",
    "        print(f\"{exercise}\")"
   ]
  },
  {
   "cell_type": "code",
   "execution_count": 8,
   "metadata": {},
   "outputs": [
    {
     "name": "stdout",
     "output_type": "stream",
     "text": [
      "\n",
      "Achilles tendon on leg press\n",
      "Achilles tendon on leg press New Overpoort\n",
      "abs\n",
      "abs ?,\n",
      "abs ispravljene noge dole\n",
      "abs ispružene noge dole\n",
      "abs machine bouncy hemisphere\n",
      "abs plank\n",
      "abs plank lakat u visini brade\n",
      "abs wheel\n",
      "banded frog pump\n",
      "bicep curl\n",
      "cable seated row\n",
      "cable seated row Dok Noord\n",
      "cable seated row Overpoort\n",
      "cable seated row bugar\n",
      "dumbbell lateral raise\n",
      "frog pump\n",
      "glute kickback\n",
      "hammer strength hamstring curl\n",
      "hip thrust machine\n",
      "hip thrust machine Overpoort\n",
      "hip thrust velika\n",
      "hyperextension\n",
      "inner thigh\n",
      "inner thigh Dok Noord\n",
      "lat pull down\n",
      "lateral band walk\n",
      "leg curl Dok Noord\n",
      "leg curl New Overpoort leva skoro sama\n",
      "leg extension Dok Noord\n",
      "leg extension Dok Noord leva skoro sama\n",
      "leg extension Dok Noord zajedno\n",
      "leg extension gore zajedno dole jedna noga\n",
      "leg extension gore zajedno dole jedna noga Dok Noord\n",
      "leg extension leva isto sama\n",
      "leg extension leva skoro sama\n",
      "leg press\n",
      "machine chest press\n",
      "machine chest press Dok Noord\n",
      "machine chest press Dok Noord new\n",
      "machine chest press Overpoort\n",
      "outer glutes exercise (sirenje nogu)\n",
      "outer glutes exercise (sirenje nogu) Dok Noord\n",
      "outer glutes exercise (sirenje nogu) Overpoort\n",
      "overhead press\n",
      "overhead press muška\n",
      "overhead press muška sama\n",
      "overhead press muška sama (uži hvat)\n",
      "overhead press single arm\n",
      "overhead press ženska\n",
      "pull-up\n",
      "pull-up better form\n",
      "pushup\n",
      "pushup sa kolena\n",
      "pushup uski\n",
      "shoulder press machine Dok Noord\n",
      "single leg romanian deadlifts\n"
     ]
    }
   ],
   "source": [
    "input_file = '../data/workout20200718.json'\n",
    "\n",
    "unique_exercises = extract_unique_exercises(input_file)\n",
    "print_unique_exercises(unique_exercises)"
   ]
  },
  {
   "cell_type": "code",
   "execution_count": null,
   "metadata": {},
   "outputs": [],
   "source": []
  }
 ],
 "metadata": {
  "kernelspec": {
   "display_name": ".venv",
   "language": "python",
   "name": "python3"
  },
  "language_info": {
   "codemirror_mode": {
    "name": "ipython",
    "version": 3
   },
   "file_extension": ".py",
   "mimetype": "text/x-python",
   "name": "python",
   "nbconvert_exporter": "python",
   "pygments_lexer": "ipython3",
   "version": "3.9.6"
  }
 },
 "nbformat": 4,
 "nbformat_minor": 2
}
