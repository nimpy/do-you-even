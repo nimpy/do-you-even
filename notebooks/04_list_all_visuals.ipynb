{
 "cells": [
  {
   "cell_type": "code",
   "execution_count": 4,
   "metadata": {},
   "outputs": [],
   "source": [
    "import os\n",
    "\n",
    "def list_png_files(directory):\n",
    "    # Get all .png files in the directory\n",
    "    png_files = [f for f in os.listdir(directory) if f.endswith('.png')]\n",
    "    \n",
    "    # Remove the .png extension and sort the names\n",
    "    return sorted([os.path.splitext(f)[0] for f in png_files])\n",
    "\n",
    "def print_file_list(title, file_list):\n",
    "    print(f\"\\n{title}:\")\n",
    "    for i, name in enumerate(file_list, 1):\n",
    "        print(f\"{name}\")\n"
   ]
  },
  {
   "cell_type": "code",
   "execution_count": 5,
   "metadata": {},
   "outputs": [
    {
     "name": "stdout",
     "output_type": "stream",
     "text": [
      "\n",
      "Back Muscle Visuals:\n",
      "Adductor magnus\n",
      "Biceps fermoris\n",
      "Brachioradialis\n",
      "Deltoids\n",
      "Extensor carpi radialis\n",
      "External obliques\n",
      "Flexor carpi radialis\n",
      "Flexor carpi ulnaris\n",
      "Gastrocnemius, lateral head\n",
      "Gastrocnemius, medial head\n",
      "Gluteus maximus\n",
      "Gluteus medius\n",
      "Gracilis\n",
      "Infraspinatus\n",
      "Lattisimus dorsi\n",
      "Lower Trapezius\n",
      "Peroneus longus\n",
      "Rhomboid major\n",
      "Semitendinosus\n",
      "Serratus Anterior\n",
      "Tensor fascie latae\n",
      "Teres major\n",
      "Thoracolumbar fascia\n",
      "Trapezius\n",
      "Triceps Brachii ( long head, lateral head )\n",
      "\n",
      "Front Muscle Visuals:\n",
      "Adductor Longus and Pectineus\n",
      "Biceps brachii\n",
      "Brachialis\n",
      "Brachioradialis\n",
      "Deltoids\n",
      "Extensor  carpi radialis\n",
      "External obliques\n",
      "Flexor carpi radialis\n",
      "Gastrocnemius (calf)\n",
      "Omohyoid\n",
      "Pectoralis Major\n",
      "Peroneus longus\n",
      "Rectus Abdominus\n",
      "Rectus Abdominus_lower\n",
      "Rectus femoris\n",
      "Sartorius\n",
      "Serratus Anterior\n",
      "Soleus\n",
      "Sternocleidomastoid\n",
      "Tensor fasciae latae\n",
      "Trapezius\n",
      "Triceps brachii, long head\n",
      "Triceps brachii, medial head\n",
      "Vastus Lateralis\n",
      "Vastus Medialis\n",
      "\n",
      "Total back muscle visuals: 25\n",
      "Total front muscle visuals: 25\n"
     ]
    }
   ],
   "source": [
    "# Directories\n",
    "back_dir = '../visuals/all_back'\n",
    "front_dir = '../visuals/all_front'\n",
    "\n",
    "# Get the file lists\n",
    "back_muscles = list_png_files(back_dir)\n",
    "front_muscles = list_png_files(front_dir)\n",
    "\n",
    "# Print the lists\n",
    "print_file_list(\"Back Muscle Visuals\", back_muscles)\n",
    "print_file_list(\"Front Muscle Visuals\", front_muscles)\n",
    "\n",
    "# Print total counts\n",
    "print(f\"\\nTotal back muscle visuals: {len(back_muscles)}\")\n",
    "print(f\"Total front muscle visuals: {len(front_muscles)}\")"
   ]
  },
  {
   "cell_type": "code",
   "execution_count": null,
   "metadata": {},
   "outputs": [],
   "source": []
  }
 ],
 "metadata": {
  "kernelspec": {
   "display_name": ".venv",
   "language": "python",
   "name": "python3"
  },
  "language_info": {
   "codemirror_mode": {
    "name": "ipython",
    "version": 3
   },
   "file_extension": ".py",
   "mimetype": "text/x-python",
   "name": "python",
   "nbconvert_exporter": "python",
   "pygments_lexer": "ipython3",
   "version": "3.9.6"
  }
 },
 "nbformat": 4,
 "nbformat_minor": 2
}
