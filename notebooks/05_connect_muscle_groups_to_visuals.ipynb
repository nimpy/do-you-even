{
 "cells": [
  {
   "cell_type": "code",
   "execution_count": 13,
   "metadata": {},
   "outputs": [],
   "source": [
    "import json\n",
    "import os\n",
    "import re\n",
    "import google.generativeai as genai\n",
    "\n",
    "# Configure the Gemini API\n",
    "genai.configure(api_key=os.environ[\"GOOGLE_API_KEY\"])\n",
    "model = genai.GenerativeModel('gemini-1.5-pro-latest')\n",
    "\n",
    "def read_file_lines(file_path):\n",
    "    with open(file_path, 'r') as file:\n",
    "        return [line.strip() for line in file if line.strip()]\n",
    "\n",
    "def extract_json_from_response(response_text):\n",
    "    # Try to extract JSON from triple backticks\n",
    "    json_match = re.search(r'```(?:json)?\\s*(\\{.*?\\})\\s*```', response_text, re.DOTALL)\n",
    "    if json_match:\n",
    "        json_str = json_match.group(1)\n",
    "    else:\n",
    "        # If no triple backticks, assume the entire response is JSON\n",
    "        json_str = response_text.strip()\n",
    "    \n",
    "    try:\n",
    "        return json.loads(json_str)\n",
    "    except json.JSONDecodeError:\n",
    "        print(f\"Error decoding JSON. Raw response: {response_text}\")\n",
    "        return None\n",
    "\n",
    "def find_relevant_visuals(muscle_group, back_visuals, front_visuals):\n",
    "    prompt = f\"\"\"\n",
    "    Given the muscle group \"{muscle_group}\", find the most relevant visual(s) from the following lists:\n",
    "    \n",
    "    Back visuals: {json.dumps(back_visuals)}\n",
    "    Front visuals: {json.dumps(front_visuals)}\n",
    "    \n",
    "    Return a JSON object with the following structure:\n",
    "    {{\n",
    "        \"muscle_group\": \"name of the muscle group\",\n",
    "        \"relevant_visuals\": [\"visual1\", \"visual2\", ...]\n",
    "    }}\n",
    "    \n",
    "    If no visuals are relevant, return an empty list for relevant_visuals.\n",
    "    \n",
    "    Example response:\n",
    "    {{\n",
    "        \"muscle_group\": \"biceps brachii\",\n",
    "        \"relevant_visuals\": [\"upper_arm_front\", \"forearm_front\"]\n",
    "    }}\n",
    "    \"\"\"\n",
    "    \n",
    "    response = model.generate_content(prompt)\n",
    "    parsed_json = extract_json_from_response(response.text)\n",
    "    \n",
    "    if parsed_json is None:\n",
    "        return {\"muscle_group\": muscle_group, \"relevant_visuals\": []}\n",
    "    return parsed_json\n",
    "\n",
    "def process_muscle_groups():\n",
    "    muscle_groups = read_file_lines('../allExercises_muscles.txt')\n",
    "    back_visuals = read_file_lines('../visuals_back.txt')\n",
    "    front_visuals = read_file_lines('../visuals_front.txt')\n",
    "    \n",
    "    results = []\n",
    "    \n",
    "    for muscle_group in muscle_groups:\n",
    "        result = find_relevant_visuals(muscle_group, back_visuals, front_visuals)\n",
    "        results.append(result)\n",
    "        print(f\"Processed: {muscle_group}\")\n",
    "    \n",
    "    with open('../muscle_group_visuals.json', 'w') as output_file:\n",
    "        json.dump(results, output_file, indent=2)\n",
    "\n",
    "    print(\"Processing complete. Results saved in muscle_group_visuals.json\")\n"
   ]
  },
  {
   "cell_type": "code",
   "execution_count": 14,
   "metadata": {},
   "outputs": [
    {
     "name": "stderr",
     "output_type": "stream",
     "text": [
      "I0000 00:00:1723737516.816785 391955717 check_gcp_environment_no_op.cc:29] ALTS: Platforms other than Linux and Windows are not supported\n"
     ]
    },
    {
     "name": "stdout",
     "output_type": "stream",
     "text": [
      "Processed: abductors\n",
      "Processed: adductors\n",
      "Processed: anterior deltoid\n",
      "Processed: biceps\n",
      "Processed: brachioradialis\n",
      "Processed: calves\n",
      "Processed: erector spinae\n",
      "Processed: forearm extensors\n",
      "Processed: forearm flexors\n",
      "Processed: gluteal muscles\n",
      "Processed: hamstrings\n",
      "Processed: lateral deltoid\n",
      "Processed: latissimus dorsi\n",
      "Processed: lower chest\n",
      "Processed: obliques\n",
      "Processed: posterior deltoid\n",
      "Processed: pronators\n",
      "Processed: quadriceps\n",
      "Processed: rectus abdominis\n",
      "Processed: supinators\n",
      "Processed: transverse abdominis\n",
      "Processed: trapezius\n",
      "Processed: triceps\n",
      "Processed: upper chest\n",
      "Processing complete. Results saved in muscle_group_visuals.json\n"
     ]
    }
   ],
   "source": [
    "process_muscle_groups()"
   ]
  },
  {
   "cell_type": "code",
   "execution_count": null,
   "metadata": {},
   "outputs": [],
   "source": []
  }
 ],
 "metadata": {
  "kernelspec": {
   "display_name": ".venv",
   "language": "python",
   "name": "python3"
  },
  "language_info": {
   "codemirror_mode": {
    "name": "ipython",
    "version": 3
   },
   "file_extension": ".py",
   "mimetype": "text/x-python",
   "name": "python",
   "nbconvert_exporter": "python",
   "pygments_lexer": "ipython3",
   "version": "3.9.6"
  }
 },
 "nbformat": 4,
 "nbformat_minor": 2
}
